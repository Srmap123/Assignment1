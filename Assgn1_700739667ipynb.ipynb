{
 "cells": [
  {
   "cell_type": "markdown",
   "metadata": {
    "id": "UJtQjLfDofuz"
   },
   "source": [
    "Write a python program for the following:\n",
    "\n",
    "Input the string “Python” as a list of characters from console, delete at least 2 characters, reversethe resultant string and print it.\n",
    "Sample input: •python\n",
    "Sample output: •ntyp"
   ]
  },
  {
   "cell_type": "code",
   "execution_count": 3,
   "metadata": {
    "colab": {
     "base_uri": "https://localhost:8080/"
    },
    "id": "S6sEKfOHoslU",
    "outputId": "ebf796e3-4f22-4038-f7ec-03451bc05639"
   },
   "outputs": [
    {
     "name": "stdout",
     "output_type": "stream",
     "text": [
      "Enter a string: godesss\n",
      "Modified and reversed string: sssed\n"
     ]
    }
   ],
   "source": [
    "# Task 1: Manipulating Strings\n",
    "input_string = input(\"Enter a string: \")  # Input the string\n",
    "char_list = list(input_string)  # Convert the string to a list of characters\n",
    "\n",
    "if len(char_list) >= 2:  # Ensure there are at least 2 characters to delete\n",
    "    del char_list[:2]  # Delete the last two characters\n",
    "    char_list.reverse()  # Reverse the list\n",
    "    result = ''.join(char_list)  # Convert the list back to a string\n",
    "    print(\"Modified and reversed string:\", result)\n",
    "else:\n",
    "    print(\"String must have at least 2 characters to perform the operation.\")\n",
    "\n"
   ]
  },
  {
   "cell_type": "code",
   "execution_count": 4,
   "metadata": {
    "colab": {
     "base_uri": "https://localhost:8080/"
    },
    "id": "GdUFB1jFpAWp",
    "outputId": "ea15a4a0-d3cf-44e7-d701-f50571fe1d3e"
   },
   "outputs": [
    {
     "name": "stdout",
     "output_type": "stream",
     "text": [
      "Enter the first number: 1\n",
      "Enter the second number: 3\n",
      "Arithmetic Operations:\n",
      "Addition: 4.0\n",
      "Subtraction: -2.0\n",
      "Multiplication: 3.0\n",
      "Division: 0.3333333333333333\n"
     ]
    }
   ],
   "source": [
    "# Task 2: Arithmetic Operations\n",
    "num1 = float(input(\"Enter the first number: \"))\n",
    "num2 = float(input(\"Enter the second number: \"))\n",
    "\n",
    "# Perform arithmetic operations\n",
    "addition = num1 + num2\n",
    "subtraction = num1 - num2\n",
    "multiplication = num1 * num2\n",
    "\n",
    "# Check if num2 is not 0 to avoid division by zero\n",
    "if num2 != 0:\n",
    "    division = num1 / num2\n",
    "else:\n",
    "    division = \"Undefined (division by zero)\"\n",
    "\n",
    "print(\"Arithmetic Operations:\")\n",
    "print(\"Addition:\", addition)\n",
    "print(\"Subtraction:\", subtraction)\n",
    "print(\"Multiplication:\", multiplication)\n",
    "print(\"Division:\", division)"
   ]
  },
  {
   "cell_type": "markdown",
   "metadata": {
    "id": "M296KakmpL_b"
   },
   "source": [
    "Write a program that accepts a sentence and replace each occurrence of ‘python’ with ‘pythons’."
   ]
  },
  {
   "cell_type": "code",
   "execution_count": 5,
   "metadata": {
    "colab": {
     "base_uri": "https://localhost:8080/"
    },
    "id": "SByM9pvBpQJY",
    "outputId": "b43c8657-f07b-4780-9cc6-58071ec27581"
   },
   "outputs": [
    {
     "name": "stdout",
     "output_type": "stream",
     "text": [
      "Enter a sentence: learn python well\n",
      "Modified sentence: learn pythons well\n"
     ]
    }
   ],
   "source": [
    "def replace_python(sentence):\n",
    "    replaced_sentence = sentence.replace(\"python\", \"pythons\")\n",
    "    return replaced_sentence\n",
    "\n",
    "input_sentence = input(\"Enter a sentence: \")\n",
    "modified_sentence = replace_python(input_sentence)\n",
    "print(\"Modified sentence:\", modified_sentence)"
   ]
  },
  {
   "cell_type": "markdown",
   "metadata": {
    "id": "frmYntQZpbSr"
   },
   "source": [
    "Use the if statement conditions to write a program to print the letter grade based on an input class score. Use the grading scheme we are using in this class."
   ]
  },
  {
   "cell_type": "code",
   "execution_count": 6,
   "metadata": {
    "colab": {
     "base_uri": "https://localhost:8080/"
    },
    "id": "Cm9R43BApg7z",
    "outputId": "ae30a581-780d-4910-d33f-ca0ab8e4630d"
   },
   "outputs": [
    {
     "name": "stdout",
     "output_type": "stream",
     "text": [
      "Enter the class score: 90\n",
      "The letter grade for the score 90.00 is: A\n"
     ]
    }
   ],
   "source": [
    "def calculate_class_grade(score):\n",
    "    if score >= 90:\n",
    "        return \"A\"\n",
    "    elif score >= 80:\n",
    "        return \"B\"\n",
    "    elif score >= 70:\n",
    "        return \"C\"\n",
    "    elif score >= 60:\n",
    "        return \"D\"\n",
    "    else:\n",
    "        return \"F\"\n",
    "\n",
    "# Get input class score from the user\n",
    "try:\n",
    "    class_score = float(input(\"Enter the class score: \"))\n",
    "    if 0 <= class_score <= 100:\n",
    "        letter_grade = calculate_class_grade(class_score)\n",
    "        print(\"The letter grade for the score {:.2f} is: {}\".format(class_score, letter_grade))\n",
    "    else:\n",
    "        print(\"Invalid score. Please enter a score between 0 and 100.\")\n",
    "except ValueError:\n",
    "    print(\"Invalid input. Please enter a valid number.\")"
   ]
  },
  {
   "cell_type": "code",
   "execution_count": null,
   "metadata": {},
   "outputs": [],
   "source": []
  },
  {
   "cell_type": "code",
   "execution_count": null,
   "metadata": {},
   "outputs": [],
   "source": []
  }
 ],
 "metadata": {
  "colab": {
   "provenance": [],
   "toc_visible": true
  },
  "kernelspec": {
   "display_name": "Python 3 (ipykernel)",
   "language": "python",
   "name": "python3"
  },
  "language_info": {
   "codemirror_mode": {
    "name": "ipython",
    "version": 3
   },
   "file_extension": ".py",
   "mimetype": "text/x-python",
   "name": "python",
   "nbconvert_exporter": "python",
   "pygments_lexer": "ipython3",
   "version": "3.9.13"
  }
 },
 "nbformat": 4,
 "nbformat_minor": 1
}
